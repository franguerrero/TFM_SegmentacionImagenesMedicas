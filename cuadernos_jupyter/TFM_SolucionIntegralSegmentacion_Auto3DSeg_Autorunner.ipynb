{
  "cells": [
    {
      "cell_type": "markdown",
      "metadata": {
        "id": "yCwqsiA_lVOK"
      },
      "source": [
        "\n",
        "\n",
        "# Solución Integral Segmentación. Auto3DSeg. Ejemplo simple con Autorunner\n",
        "\n",
        "En este cuaderno, proporcionaremos una demostración simple de cómo utilizar Auto3DSeg AutoRunner para procesar un conjunto de datos simulados y generar resultados en muy pocos minutos\n",
        "\n",
        "[![Abrir en Colab](https://colab.research.google.com/assets/colab-badge.svg)](https://colab.research.google.com/github/franguerrero/TFM_SegmentacionImagenesMedicas/blob/main/cuadernos_jupyter/TFM_SolucionIntegralSegmentacion_Auto3DSeg_Autorunner.ipynb)"
      ]
    },
    {
      "cell_type": "markdown",
      "metadata": {
        "id": "_hGufKcNlVOQ"
      },
      "source": [
        "## Setup del entorno\n",
        "\n",
        "Verificamos si está conectado con la GPU y mostramos la información de la GPU"
      ]
    },
    {
      "cell_type": "code",
      "source": [
        "gpu_info = !nvidia-smi\n",
        "gpu_info = '\\n'.join(gpu_info)\n",
        "if gpu_info.find('fallo') >= 0:\n",
        "  print('No conectado a GPU')\n",
        "else:\n",
        "  print(gpu_info)"
      ],
      "metadata": {
        "colab": {
          "base_uri": "https://localhost:8080/",
          "height": 0
        },
        "id": "hg-5Lt0XqfEv",
        "outputId": "1098a074-3350-4a0d-f100-f9dc56fcf871"
      },
      "execution_count": 1,
      "outputs": [
        {
          "output_type": "stream",
          "name": "stdout",
          "text": [
            "Sun Feb  5 08:57:19 2023       \n",
            "+-----------------------------------------------------------------------------+\n",
            "| NVIDIA-SMI 510.47.03    Driver Version: 510.47.03    CUDA Version: 11.6     |\n",
            "|-------------------------------+----------------------+----------------------+\n",
            "| GPU  Name        Persistence-M| Bus-Id        Disp.A | Volatile Uncorr. ECC |\n",
            "| Fan  Temp  Perf  Pwr:Usage/Cap|         Memory-Usage | GPU-Util  Compute M. |\n",
            "|                               |                      |               MIG M. |\n",
            "|===============================+======================+======================|\n",
            "|   0  Tesla T4            Off  | 00000000:00:04.0 Off |                    0 |\n",
            "| N/A   47C    P0    26W /  70W |      0MiB / 15360MiB |      0%      Default |\n",
            "|                               |                      |                  N/A |\n",
            "+-------------------------------+----------------------+----------------------+\n",
            "                                                                               \n",
            "+-----------------------------------------------------------------------------+\n",
            "| Processes:                                                                  |\n",
            "|  GPU   GI   CI        PID   Type   Process name                  GPU Memory |\n",
            "|        ID   ID                                                   Usage      |\n",
            "|=============================================================================|\n",
            "|  No running processes found                                                 |\n",
            "+-----------------------------------------------------------------------------+\n"
          ]
        }
      ]
    },
    {
      "cell_type": "code",
      "source": [
        "import os\n",
        "os.environ['TF_ENABLE_ONEDNN_OPTS'] = '0'"
      ],
      "metadata": {
        "id": "b-yhLuGamBnJ"
      },
      "execution_count": 2,
      "outputs": []
    },
    {
      "cell_type": "code",
      "source": [
        "# Necesitamos estas versiones para que funcione correctamente\n",
        "!pip install nibabel==4.0.2 fire==0.4.0 scikit-image==0.19.3 "
      ],
      "metadata": {
        "colab": {
          "base_uri": "https://localhost:8080/",
          "height": 0
        },
        "id": "_RoPEdxyl73g",
        "outputId": "86dc4f09-7635-4f29-a97d-9d37e3df771b"
      },
      "execution_count": 3,
      "outputs": [
        {
          "output_type": "stream",
          "name": "stdout",
          "text": [
            "Looking in indexes: https://pypi.org/simple, https://us-python.pkg.dev/colab-wheels/public/simple/\n",
            "Collecting nibabel==4.0.2\n",
            "  Downloading nibabel-4.0.2-py3-none-any.whl (3.3 MB)\n",
            "\u001b[2K     \u001b[90m━━━━━━━━━━━━━━━━━━━━━━━━━━━━━━━━━━━━━━━━\u001b[0m \u001b[32m3.3/3.3 MB\u001b[0m \u001b[31m26.7 MB/s\u001b[0m eta \u001b[36m0:00:00\u001b[0m\n",
            "\u001b[?25hCollecting fire==0.4.0\n",
            "  Downloading fire-0.4.0.tar.gz (87 kB)\n",
            "\u001b[2K     \u001b[90m━━━━━━━━━━━━━━━━━━━━━━━━━━━━━━━━━━━━━━━━\u001b[0m \u001b[32m87.7/87.7 KB\u001b[0m \u001b[31m6.0 MB/s\u001b[0m eta \u001b[36m0:00:00\u001b[0m\n",
            "\u001b[?25h  Preparing metadata (setup.py) ... \u001b[?25l\u001b[?25hdone\n",
            "Collecting scikit-image==0.19.3\n",
            "  Downloading scikit_image-0.19.3-cp38-cp38-manylinux_2_17_x86_64.manylinux2014_x86_64.whl (14.0 MB)\n",
            "\u001b[2K     \u001b[90m━━━━━━━━━━━━━━━━━━━━━━━━━━━━━━━━━━━━━━━━\u001b[0m \u001b[32m14.0/14.0 MB\u001b[0m \u001b[31m17.6 MB/s\u001b[0m eta \u001b[36m0:00:00\u001b[0m\n",
            "\u001b[?25hRequirement already satisfied: numpy>=1.17 in /usr/local/lib/python3.8/dist-packages (from nibabel==4.0.2) (1.21.6)\n",
            "Requirement already satisfied: packaging>=17.0 in /usr/local/lib/python3.8/dist-packages (from nibabel==4.0.2) (23.0)\n",
            "Requirement already satisfied: setuptools in /usr/local/lib/python3.8/dist-packages (from nibabel==4.0.2) (57.4.0)\n",
            "Requirement already satisfied: six in /usr/local/lib/python3.8/dist-packages (from fire==0.4.0) (1.15.0)\n",
            "Requirement already satisfied: termcolor in /usr/local/lib/python3.8/dist-packages (from fire==0.4.0) (2.2.0)\n",
            "Requirement already satisfied: scipy>=1.4.1 in /usr/local/lib/python3.8/dist-packages (from scikit-image==0.19.3) (1.7.3)\n",
            "Requirement already satisfied: pillow!=7.1.0,!=7.1.1,!=8.3.0,>=6.1.0 in /usr/local/lib/python3.8/dist-packages (from scikit-image==0.19.3) (7.1.2)\n",
            "Requirement already satisfied: PyWavelets>=1.1.1 in /usr/local/lib/python3.8/dist-packages (from scikit-image==0.19.3) (1.4.1)\n",
            "Requirement already satisfied: imageio>=2.4.1 in /usr/local/lib/python3.8/dist-packages (from scikit-image==0.19.3) (2.9.0)\n",
            "Requirement already satisfied: networkx>=2.2 in /usr/local/lib/python3.8/dist-packages (from scikit-image==0.19.3) (3.0)\n",
            "Requirement already satisfied: tifffile>=2019.7.26 in /usr/local/lib/python3.8/dist-packages (from scikit-image==0.19.3) (2023.1.23.1)\n",
            "Building wheels for collected packages: fire\n",
            "  Building wheel for fire (setup.py) ... \u001b[?25l\u001b[?25hdone\n",
            "  Created wheel for fire: filename=fire-0.4.0-py2.py3-none-any.whl size=115943 sha256=33213b87b1a2b9bc039e6adea043b3fb2c99c0088aec9aa911dedf5284db2159\n",
            "  Stored in directory: /root/.cache/pip/wheels/1f/10/06/2a990ee4d73a8479fe2922445e8a876d38cfbfed052284c6a1\n",
            "Successfully built fire\n",
            "Installing collected packages: nibabel, fire, scikit-image\n",
            "  Attempting uninstall: nibabel\n",
            "    Found existing installation: nibabel 3.0.2\n",
            "    Uninstalling nibabel-3.0.2:\n",
            "      Successfully uninstalled nibabel-3.0.2\n",
            "  Attempting uninstall: scikit-image\n",
            "    Found existing installation: scikit-image 0.18.3\n",
            "    Uninstalling scikit-image-0.18.3:\n",
            "      Successfully uninstalled scikit-image-0.18.3\n",
            "Successfully installed fire-0.4.0 nibabel-4.0.2 scikit-image-0.19.3\n"
          ]
        }
      ]
    },
    {
      "cell_type": "code",
      "execution_count": 4,
      "metadata": {
        "id": "jD2UXK4nlVOR",
        "colab": {
          "base_uri": "https://localhost:8080/",
          "height": 0
        },
        "outputId": "d731f3a3-763d-40db-c95b-a30cd0abb3b9"
      },
      "outputs": [
        {
          "output_type": "stream",
          "name": "stdout",
          "text": [
            "\u001b[2K     \u001b[90m━━━━━━━━━━━━━━━━━━━━━━━━━━━━━━━━━━━━━━━━\u001b[0m \u001b[32m1.2/1.2 MB\u001b[0m \u001b[31m19.5 MB/s\u001b[0m eta \u001b[36m0:00:00\u001b[0m\n",
            "\u001b[?25h\u001b[33mWARNING: monai 1.1.0 does not provide the extra 'yaml'\u001b[0m\u001b[33m\n",
            "\u001b[2K     \u001b[90m━━━━━━━━━━━━━━━━━━━━━━━━━━━━━━━━━━━━━━━━\u001b[0m \u001b[32m41.6/41.6 KB\u001b[0m \u001b[31m3.1 MB/s\u001b[0m eta \u001b[36m0:00:00\u001b[0m\n",
            "\u001b[?25h"
          ]
        }
      ],
      "source": [
        "# Instalamos las librerias de MONAI en su ultima versión estable que en el momento de la realización de este cuaderno es la 1.1.0\n",
        "\n",
        "!pip install -q \"monai[nibabel, tqdm, einops, yaml]\"==1.1.0\n",
        "#!python -c \"import monai\" || pip install -q \"monai-weekly[nibabel, yaml, tqdm]\"\n",
        "#!python -c \"import monai\" || pip install -q \"monai[all]\"\n"
      ]
    },
    {
      "cell_type": "markdown",
      "metadata": {
        "id": "IMFOtlUDlVOU"
      },
      "source": [
        "## Setup de imports"
      ]
    },
    {
      "cell_type": "code",
      "execution_count": 5,
      "metadata": {
        "id": "PVS7VICclVOV",
        "colab": {
          "base_uri": "https://localhost:8080/",
          "height": 0
        },
        "outputId": "3c0e7008-d2c7-4ac7-ec2e-a20fa154e514"
      },
      "outputs": [
        {
          "output_type": "stream",
          "name": "stdout",
          "text": [
            "MONAI version: 1.1.0\n",
            "Numpy version: 1.21.6\n",
            "Pytorch version: 1.13.1+cu116\n",
            "MONAI flags: HAS_EXT = False, USE_COMPILED = False, USE_META_DICT = False\n",
            "MONAI rev id: a2ec3752f54bfc3b40e7952234fbeb5452ed63e3\n",
            "MONAI __file__: /usr/local/lib/python3.8/dist-packages/monai/__init__.py\n",
            "\n",
            "Optional dependencies:\n",
            "Pytorch Ignite version: NOT INSTALLED or UNKNOWN VERSION.\n",
            "Nibabel version: 4.0.2\n",
            "scikit-image version: 0.19.3\n",
            "Pillow version: 7.1.2\n",
            "Tensorboard version: 2.9.1\n",
            "gdown version: 4.4.0\n",
            "TorchVision version: 0.14.1+cu116\n",
            "tqdm version: 4.64.1\n",
            "lmdb version: 0.99\n",
            "psutil version: 5.4.8\n",
            "pandas version: 1.3.5\n",
            "einops version: 0.6.0\n",
            "transformers version: NOT INSTALLED or UNKNOWN VERSION.\n",
            "mlflow version: NOT INSTALLED or UNKNOWN VERSION.\n",
            "pynrrd version: NOT INSTALLED or UNKNOWN VERSION.\n",
            "\n",
            "For details about installing the optional dependencies, please visit:\n",
            "    https://docs.monai.io/en/latest/installation.html#installing-the-recommended-dependencies\n",
            "\n"
          ]
        }
      ],
      "source": [
        "# Importamos aquellas librerias que nos van a hacer falta tanto de MONAI como otras como de numpy o matplotlib\n",
        "# Finalizamos viendo las versiones instaladas de cada una de ellas\n",
        "\n",
        "import os\n",
        "import json\n",
        "import nibabel as nib\n",
        "import numpy as np\n",
        "import matplotlib.pyplot as plt\n",
        "import torch\n",
        "\n",
        "from monai.apps.auto3dseg import AutoRunner\n",
        "from monai.config import print_config\n",
        "from monai.data import create_test_image_3d\n",
        "\n",
        "print_config()"
      ]
    },
    {
      "cell_type": "markdown",
      "metadata": {
        "id": "hyfIC81slVOW"
      },
      "source": [
        "## Conjunto de datos simulados\n",
        "\n",
        "Para disminuir los tiempos de entrenamiento, en lugar de usar imágenes reales de CT que llevarían mucho tiempo de entrenar, se van a simular un conjunto de datos de entrenamiento con una geometría mucho más simple de la que sería un dato real y se va a entrenar al modelo usando muy pocas iteraciones (épocas) con el objetivo de demostrar todos el proceso. Los resultados que se obtendran no serán nada precisos, pero el objetivo ahora sería ver todo el proceso en un tiempo razonable independientemente de la calidad de precision del modelo resultante.\n",
        "\n",
        "Nos creamos tambien la variable sim_datalist que proporciona la información de los conjuntos de datos simulados. En él se listan 12 imágenes de entrenamiento y 2 de pruebas. \n",
        "\n",
        "Los datos de entrenamiento se dividen en 3 grupos. Cada grupo utilizará 8 imágenes para entrenar y 4 para validar. El tamaño de la dimensión se define por sim_dim.Cada conjunto de validación solo tiene 4 imágenes en un grupo de entrenamiento.\n",
        "\n",
        "sim_datalist es el equivalente a dataset_0.json que hemos usado en los otros cuadernos\n"
      ]
    },
    {
      "cell_type": "code",
      "execution_count": 6,
      "metadata": {
        "id": "yer4n3NXlVOX"
      },
      "outputs": [],
      "source": [
        "sim_datalist = {\n",
        "    \"testing\": [\n",
        "        {\"image\": \"test_image_001.nii.gz\", \"label\": \"test_label_001.nii.gz\"},\n",
        "        {\"image\": \"test_image_002.nii.gz\", \"label\": \"test_label_002.nii.gz\"},\n",
        "    ],\n",
        "    \"training\": [\n",
        "        {\"fold\": 0, \"image\": \"tr_image_001.nii.gz\", \"label\": \"tr_label_001.nii.gz\"},\n",
        "        {\"fold\": 0, \"image\": \"tr_image_002.nii.gz\", \"label\": \"tr_label_002.nii.gz\"},\n",
        "        {\"fold\": 0, \"image\": \"tr_image_003.nii.gz\", \"label\": \"tr_label_003.nii.gz\"},\n",
        "        {\"fold\": 0, \"image\": \"tr_image_004.nii.gz\", \"label\": \"tr_label_004.nii.gz\"},\n",
        "        {\"fold\": 1, \"image\": \"tr_image_005.nii.gz\", \"label\": \"tr_label_005.nii.gz\"},\n",
        "        {\"fold\": 1, \"image\": \"tr_image_006.nii.gz\", \"label\": \"tr_label_006.nii.gz\"},\n",
        "        {\"fold\": 1, \"image\": \"tr_image_007.nii.gz\", \"label\": \"tr_label_007.nii.gz\"},\n",
        "        {\"fold\": 1, \"image\": \"tr_image_008.nii.gz\", \"label\": \"tr_label_008.nii.gz\"},\n",
        "        {\"fold\": 2, \"image\": \"tr_image_009.nii.gz\", \"label\": \"tr_label_009.nii.gz\"},\n",
        "        {\"fold\": 2, \"image\": \"tr_image_010.nii.gz\", \"label\": \"tr_label_010.nii.gz\"},\n",
        "        {\"fold\": 2, \"image\": \"tr_image_011.nii.gz\", \"label\": \"tr_label_011.nii.gz\"},\n",
        "        {\"fold\": 2, \"image\": \"tr_image_012.nii.gz\", \"label\": \"tr_label_012.nii.gz\"},\n",
        "    ],\n",
        "}\n",
        "\n",
        "sim_dim = (64, 64, 64)\n",
        "\n",
        "#  debemos establecer un límite en el número total de GPUs que estamos utilizando. Al ser con Colab solo tendremos 1 GPU\n",
        "if torch.cuda.device_count() > 4:\n",
        "    os.environ[\"CUDA_DEVICE_ORDER\"] = \"PCI_BUS_ID\"\n",
        "    os.environ[\"CUDA_VISIBLE_DEVICES\"] = \"0,1,2,3\""
      ]
    },
    {
      "cell_type": "markdown",
      "metadata": {
        "id": "VTAXcx1ElVOY"
      },
      "source": [
        "## Generar imágenes y etiquetas simuladsa\n",
        "Utilizamos las funciones 'create_test_image_3d' de MONAI y 'nib.Nifti1Image' para generar las imágenes 3D simuladas en el directorio de trabajo \"./solucionintegralsegmentacion\"."
      ]
    },
    {
      "cell_type": "code",
      "execution_count": 7,
      "metadata": {
        "id": "ulzjPIyLlVOa"
      },
      "outputs": [],
      "source": [
        "work_dir = \"./solucionintegralsegmentacion\"\n",
        "if not os.path.isdir(work_dir):\n",
        "    os.makedirs(work_dir)\n",
        "\n",
        "dataroot_dir = os.path.join(work_dir, \"sim_dataroot\")\n",
        "if not os.path.isdir(dataroot_dir):\n",
        "    os.makedirs(dataroot_dir)\n",
        "\n",
        "datalist_file = os.path.join(work_dir, \"sim_datalist.json\")\n",
        "with open(datalist_file, \"w\") as f:\n",
        "    json.dump(sim_datalist, f)\n",
        "\n",
        "for d in sim_datalist[\"testing\"] + sim_datalist[\"training\"]:\n",
        "    im, seg = create_test_image_3d(\n",
        "        sim_dim[0], sim_dim[1], sim_dim[2], rad_max=10, num_seg_classes=1, random_state=np.random.RandomState(42)\n",
        "    )\n",
        "    image_fpath = os.path.join(dataroot_dir, d[\"image\"])\n",
        "    label_fpath = os.path.join(dataroot_dir, d[\"label\"])\n",
        "    nib.save(nib.Nifti1Image(im, affine=np.eye(4)), image_fpath)\n",
        "    nib.save(nib.Nifti1Image(seg, affine=np.eye(4)), label_fpath)"
      ]
    },
    {
      "cell_type": "markdown",
      "metadata": {
        "id": "-W8V0jRKlVOb"
      },
      "source": [
        "## Inspeccionar los datos simulados\n",
        "\n",
        "Seleccionamos uno de los datos de prueba para tener una idea de como es la imagen simulada y la etiqueta"
      ]
    },
    {
      "cell_type": "code",
      "execution_count": 8,
      "metadata": {
        "id": "Z_OvDhKYlVOb",
        "outputId": "0704cc2b-0d50-499a-dd78-4f61f0d74f81",
        "colab": {
          "base_uri": "https://localhost:8080/",
          "height": 186
        }
      },
      "outputs": [
        {
          "output_type": "display_data",
          "data": {
            "text/plain": [
              "<Figure size 432x288 with 4 Axes>"
            ],
            "image/png": "[encoded data removed]"
          },
          "metadata": {
            "needs_background": "light"
          }
        }
      ],
      "source": [
        "img_nib = nib.load(os.path.join(dataroot_dir, sim_datalist[\"testing\"][0][\"image\"]))\n",
        "lbl_nib = nib.load(os.path.join(dataroot_dir, sim_datalist[\"testing\"][0][\"label\"]))\n",
        "img = np.array(img_nib.dataobj)\n",
        "lbl = np.array(lbl_nib.dataobj)\n",
        "plt.subplot(1, 2, 1)\n",
        "plt.imshow(img[32])\n",
        "plt.title(\"Imagen\")\n",
        "cbar = plt.colorbar(shrink=0.55)\n",
        "plt.subplot(1, 2, 2)\n",
        "plt.imshow(lbl[32])\n",
        "plt.title(\"Etiqueta\")\n",
        "cbar = plt.colorbar(shrink=0.55)"
      ]
    },
    {
      "cell_type": "markdown",
      "metadata": {
        "id": "raLWrclilVOd"
      },
      "source": [
        "## Ejecutar el AutoRunner de la Solución Integral de Auto3DSeg\n",
        "\n",
        "`AutoRunner`automáticamente configurará cuatro redes neuronales diferentes y realizará un entrenamiento multigrupo para lograr el mejor rendimiento. El módulo es altamente configurable y solo requiere una entrada mínima. \n",
        "\n",
        "Configuramos el Autorunner:"
      ]
    },
    {
      "cell_type": "code",
      "execution_count": 9,
      "metadata": {
        "id": "wXOlWGAnlVOd",
        "colab": {
          "base_uri": "https://localhost:8080/",
          "height": 0
        },
        "outputId": "29b6965d-dd88-4070-8550-1cb1e2058482"
      },
      "outputs": [
        {
          "output_type": "stream",
          "name": "stdout",
          "text": [
            "2023-02-05 08:58:02,648 - INFO - AutoRunner using work directory ./solucionintegralsegmentacion\n",
            "2023-02-05 08:58:02,653 - INFO - The output_dir is not specified. /content/solucionintegralsegmentacion/ensemble_output will be used to save ensemble predictions\n",
            "2023-02-05 08:58:02,654 - INFO - Directory /content/solucionintegralsegmentacion/ensemble_output is created to save ensemble predictions\n"
          ]
        }
      ],
      "source": [
        "runner = AutoRunner(\n",
        "    work_dir=work_dir,\n",
        "    input={\n",
        "        \"modality\": \"MRI\",\n",
        "        \"datalist\": datalist_file,\n",
        "        \"dataroot\": dataroot_dir,\n",
        "    },\n",
        ")"
      ]
    },
    {
      "cell_type": "markdown",
      "metadata": {
        "id": "tGOWLDiulVOe"
      },
      "source": [
        "## Configuracion para ejecución rápida\n",
        "Sobrescribimos los parámetros de entrenamiento para que podamos completar el pipeline en pocos minutos."
      ]
    },
    {
      "cell_type": "code",
      "execution_count": 10,
      "metadata": {
        "id": "jf83MwLblVOe"
      },
      "outputs": [],
      "source": [
        "max_epochs = 2\n",
        "\n",
        "# safeguard to ensure max_epochs is greater or equal to 2\n",
        "# aseguramos que el numero de epocas sea al menos de 2\n",
        "max_epochs = max(max_epochs, 2)\n",
        "\n",
        "train_param = {\n",
        "    \"CUDA_VISIBLE_DEVICES\": [0],  # usamos solo una GPU puesto que es lo que tiene colab\n",
        "    \"num_iterations\": 4 * max_epochs,\n",
        "    \"num_iterations_per_validation\": 2 * max_epochs,\n",
        "    \"num_images_per_batch\": 2,\n",
        "    \"num_epochs\": max_epochs,\n",
        "    \"num_warmup_iterations\": 2 * max_epochs,\n",
        "}\n",
        "runner.set_training_params(train_param)\n",
        "runner.set_num_fold(num_fold=1)"
      ]
    },
    {
      "cell_type": "markdown",
      "metadata": {
        "id": "sGDaPAoMlVOf"
      },
      "source": [
        "## Ejecutamos el Autorunner\n",
        "Autorruner realiza el análisis de datos, generación de algoritmos, entrenamiento y ensamblado de modelos."
      ]
    },
    {
      "cell_type": "code",
      "execution_count": 11,
      "metadata": {
        "id": "A-kaL-WelVOf",
        "colab": {
          "base_uri": "https://localhost:8080/",
          "height": 0
        },
        "outputId": "a31e7a8d-fba3-4d56-c414-fa95b6576193"
      },
      "outputs": [
        {
          "output_type": "stream",
          "name": "stdout",
          "text": [
            "2023-02-05 08:58:02,680 - INFO - Running data analysis...\n"
          ]
        },
        {
          "output_type": "stream",
          "name": "stderr",
          "text": [
            "100%|██████████| 12/12 [00:06<00:00,  1.76it/s]\n",
            "algo_templates.tar.gz: 64.0kB [00:00, 182kB/s]                             "
          ]
        },
        {
          "output_type": "stream",
          "name": "stdout",
          "text": [
            "2023-02-05 08:58:10,211 - INFO - Downloaded: /tmp/tmp8qt_n4eb/algo_templates.tar.gz\n",
            "2023-02-05 08:58:10,213 - INFO - Expected md5 is None, skip md5 check for file /tmp/tmp8qt_n4eb/algo_templates.tar.gz.\n",
            "2023-02-05 08:58:10,214 - INFO - Writing into directory: /content/solucionintegralsegmentacion.\n"
          ]
        },
        {
          "output_type": "stream",
          "name": "stderr",
          "text": [
            "\n"
          ]
        },
        {
          "output_type": "stream",
          "name": "stdout",
          "text": [
            "2023-02-05 08:58:11,075 - INFO - /content/solucionintegralsegmentacion/segresnet2d_0\n",
            "2023-02-05 08:58:11,572 - INFO - /content/solucionintegralsegmentacion/dints_0\n",
            "2023-02-05 08:58:12,013 - INFO - /content/solucionintegralsegmentacion/swinunetr_0\n",
            "Loaded self.data_list_file /content/solucionintegralsegmentacion/input.yaml\n",
            "2023-02-05 08:58:12,592 - INFO - /content/solucionintegralsegmentacion/segresnet_0\n",
            "2023-02-05 08:58:12,616 - INFO - Launching: python /content/solucionintegralsegmentacion/dints_0/scripts/search.py run --config_file='/content/solucionintegralsegmentacion/dints_0/configs/transforms_validate.yaml','/content/solucionintegralsegmentacion/dints_0/configs/hyper_parameters.yaml','/content/solucionintegralsegmentacion/dints_0/configs/network.yaml','/content/solucionintegralsegmentacion/dints_0/configs/transforms_train.yaml','/content/solucionintegralsegmentacion/dints_0/configs/transforms_infer.yaml','/content/solucionintegralsegmentacion/dints_0/configs/network_search.yaml','/content/solucionintegralsegmentacion/dints_0/configs/hyper_parameters_search.yaml' --searching#num_iterations=8 --searching#num_iterations_per_validation=4 --searching#num_images_per_batch=2 --searching#num_epochs=2 --searching#num_warmup_iterations=4\n",
            "2023-02-05 08:58:57,747 - INFO - Launching: python /content/solucionintegralsegmentacion/dints_0/scripts/train.py run --config_file='/content/solucionintegralsegmentacion/dints_0/configs/transforms_validate.yaml','/content/solucionintegralsegmentacion/dints_0/configs/hyper_parameters.yaml','/content/solucionintegralsegmentacion/dints_0/configs/network.yaml','/content/solucionintegralsegmentacion/dints_0/configs/transforms_train.yaml','/content/solucionintegralsegmentacion/dints_0/configs/transforms_infer.yaml','/content/solucionintegralsegmentacion/dints_0/configs/network_search.yaml','/content/solucionintegralsegmentacion/dints_0/configs/hyper_parameters_search.yaml' --training#num_iterations=8 --training#num_iterations_per_validation=4 --training#num_images_per_batch=2 --training#num_epochs=2 --training#num_warmup_iterations=4\n",
            "2023-02-05 08:59:21,002 - INFO - Launching: python /content/solucionintegralsegmentacion/segresnet2d_0/scripts/train.py run --config_file='/content/solucionintegralsegmentacion/segresnet2d_0/configs/transforms_validate.yaml','/content/solucionintegralsegmentacion/segresnet2d_0/configs/hyper_parameters.yaml','/content/solucionintegralsegmentacion/segresnet2d_0/configs/network.yaml','/content/solucionintegralsegmentacion/segresnet2d_0/configs/transforms_train.yaml','/content/solucionintegralsegmentacion/segresnet2d_0/configs/transforms_infer.yaml' --num_iterations=8 --num_iterations_per_validation=4 --num_images_per_batch=2 --num_epochs=2 --num_warmup_iterations=4\n",
            "2023-02-05 08:59:37,933 - INFO - Launching: python /content/solucionintegralsegmentacion/segresnet_0/scripts/train.py run --config_file='/content/solucionintegralsegmentacion/segresnet_0/configs/hyper_parameters.yaml' --num_iterations=8 --num_iterations_per_validation=4 --num_images_per_batch=2 --num_epochs=2 --num_warmup_iterations=4\n",
            "2023-02-05 09:00:00,889 - INFO - Launching: python /content/solucionintegralsegmentacion/swinunetr_0/scripts/train.py run --config_file='/content/solucionintegralsegmentacion/swinunetr_0/configs/transforms_validate.yaml','/content/solucionintegralsegmentacion/swinunetr_0/configs/hyper_parameters.yaml','/content/solucionintegralsegmentacion/swinunetr_0/configs/network.yaml','/content/solucionintegralsegmentacion/swinunetr_0/configs/transforms_train.yaml','/content/solucionintegralsegmentacion/swinunetr_0/configs/transforms_infer.yaml' --num_iterations=8 --num_iterations_per_validation=4 --num_images_per_batch=2 --num_epochs=2 --num_warmup_iterations=4\n",
            "0\n",
            "[info] checkpoint /content/solucionintegralsegmentacion/swinunetr_0/model_fold0/best_metric_model.pt loaded\n",
            "2023-02-05 09:00:36,538 INFO image_writer.py:194 - writing: /content/solucionintegralsegmentacion/swinunetr_0/prediction_testing/test_image_001/test_image_001_seg.nii.gz\n",
            "1\n",
            "[info] checkpoint /content/solucionintegralsegmentacion/swinunetr_0/model_fold0/best_metric_model.pt loaded\n",
            "2023-02-05 09:00:37,544 INFO image_writer.py:194 - writing: /content/solucionintegralsegmentacion/swinunetr_0/prediction_testing/test_image_002/test_image_002_seg.nii.gz\n",
            "Auto3Dseg picked the following networks to ensemble:\n",
            "swinunetr_0\n",
            "2023-02-05 09:00:37,574 INFO image_writer.py:194 - writing: /content/solucionintegralsegmentacion/ensemble_output/test_image_001/test_image_001_ensemble.nii.gz\n",
            "2023-02-05 09:00:37,588 INFO image_writer.py:194 - writing: /content/solucionintegralsegmentacion/ensemble_output/test_image_002/test_image_002_ensemble.nii.gz\n",
            "2023-02-05 09:00:37,599 - INFO - Auto3Dseg ensemble prediction outputs are saved in /content/solucionintegralsegmentacion/ensemble_output.\n",
            "2023-02-05 09:00:37,603 - INFO - Auto3Dseg pipeline is complete successfully.\n"
          ]
        }
      ],
      "source": [
        "runner.run()"
      ]
    },
    {
      "cell_type": "markdown",
      "metadata": {
        "id": "2ls1MhWvlVOf"
      },
      "source": [
        "## Inspeccionar las predicciones ensambladas del algoritmo y compararlas con el Ground Truth (GT)"
      ]
    },
    {
      "cell_type": "code",
      "execution_count": 12,
      "metadata": {
        "id": "b-sLfxrFlVOg",
        "outputId": "fa9eea55-4014-4824-d1aa-76d700c88800",
        "colab": {
          "base_uri": "https://localhost:8080/",
          "height": 294
        }
      },
      "outputs": [
        {
          "output_type": "display_data",
          "data": {
            "text/plain": [
              "<Figure size 432x288 with 8 Axes>"
            ],
            "image/png": "[encoded data removed]"
          },
          "metadata": {
            "needs_background": "light"
          }
        }
      ],
      "source": [
        "image_name = sim_datalist[\"testing\"][0][\"image\"].split(\".\")[0]\n",
        "prediction_nib = nib.load(os.path.join(work_dir, \"ensemble_output\", image_name, image_name + \"_ensemble\" + \".nii.gz\"))\n",
        "pred = np.array(prediction_nib.dataobj)\n",
        "\n",
        "img_slice32 = lbl[32] == 0\n",
        "label_slice32 = lbl[32] == 1\n",
        "background_slice32 = pred[32, :, :, 0] if pred.ndim == 4 else pred[32] == 0\n",
        "foreground_slice32 = pred[32, :, :, 1] if pred.ndim == 4 else pred[32] == 1\n",
        "\n",
        "plt.subplot(2, 2, 1)\n",
        "plt.imshow(img_slice32)\n",
        "plt.title(\"Fondo GT\")\n",
        "cbar = plt.colorbar(shrink=0.8)\n",
        "plt.subplot(2, 2, 2)\n",
        "plt.imshow(label_slice32)\n",
        "plt.title(\"Primer Plano GT\")\n",
        "cbar = plt.colorbar(shrink=0.8)\n",
        "plt.subplot(2, 2, 3)\n",
        "plt.imshow(background_slice32)\n",
        "plt.title(\"Fondo Prediccion\")\n",
        "cbar = plt.colorbar(shrink=0.8)\n",
        "plt.subplot(2, 2, 4)\n",
        "plt.imshow(foreground_slice32)\n",
        "plt.title(\"Primer Plano Prediccion\")\n",
        "cbar = plt.colorbar(shrink=0.8)\n",
        "# set the spacing between subplots\n",
        "plt.subplots_adjust(left=0.1, bottom=0.1, right=0.9, top=0.9, wspace=0.4, hspace=0.4)\n",
        "plt.show()"
      ]
    },
    {
      "cell_type": "markdown",
      "metadata": {
        "id": "XiCNwe30lVOg"
      },
      "source": [
        "## Conclusion\n",
        "\n",
        "Podemos ver que los algoritmos comienzan a aprender los conjuntos de datos y la predicción de vóxeles de fondo y primer plano. Auto3DSeg y AutoRunner son altamente configurables. Para obtener mejores resultados, se puede aumentar el tiempo de entrenamiento, aplicar un método de ensamblado diferente o utilizar la optimización de hiperparámetros a través de las APIs de módulo AutoRunner o Auto3DSeg."
      ]
    }
  ],
  "metadata": {
    "kernelspec": {
      "display_name": "Python 3 (ipykernel)",
      "language": "python",
      "name": "python3"
    },
    "language_info": {
      "codemirror_mode": {
        "name": "ipython",
        "version": 3
      },
      "file_extension": ".py",
      "mimetype": "text/x-python",
      "name": "python",
      "nbconvert_exporter": "python",
      "pygments_lexer": "ipython3",
      "version": "3.8.13"
    },
    "vscode": {
      "interpreter": {
        "hash": "d4d1e4263499bec80672ea0156c357c1ee493ec2b1c70f0acce89fc37c4a6abe"
      }
    },
    "colab": {
      "provenance": []
    },
    "accelerator": "GPU",
    "gpuClass": "standard"
  },
  "nbformat": 4,
  "nbformat_minor": 0
}