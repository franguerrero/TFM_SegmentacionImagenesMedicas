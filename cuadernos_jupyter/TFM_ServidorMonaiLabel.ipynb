{
  "cells": [
    {
      "cell_type": "markdown",
      "source": [
        "[![Abrir en Colab](https://colab.research.google.com/assets/colab-badge.svg)](https://colab.research.google.com/github/franguerrero/TFM_SegmentacionImagenesMedicas/blob/main/cuadernos_jupyter/TFM_ServidorMonaiLabel.ipynb)"
      ],
      "metadata": {
        "id": "npSfFk6iWy9s"
      }
    },
    {
      "cell_type": "code",
      "execution_count": null,
      "metadata": {
        "colab": {
          "base_uri": "https://localhost:8080/"
        },
        "id": "eX1-rD28P5ZN",
        "outputId": "825e72aa-7603-405c-d0b8-b115ce879e68"
      },
      "outputs": [
        {
          "name": "stdout",
          "output_type": "stream",
          "text": [
            "Looking in indexes: https://pypi.org/simple, https://us-python.pkg.dev/colab-wheels/public/simple/\n",
            "Requirement already satisfied: monailabel in /usr/local/lib/python3.8/dist-packages (0.6.0)\n",
            "Requirement already satisfied: pydicom-seg==0.4.0 in /usr/local/lib/python3.8/dist-packages (from monailabel) (0.4.0)\n",
            "Requirement already satisfied: einops>=0.3.2 in /usr/local/lib/python3.8/dist-packages (from monailabel) (0.6.0)\n",
            "Requirement already satisfied: pynrrd==0.4.3 in /usr/local/lib/python3.8/dist-packages (from monailabel) (0.4.3)\n",
            "Requirement already satisfied: fastapi==0.78.0 in /usr/local/lib/python3.8/dist-packages (from monailabel) (0.78.0)\n",
            "Requirement already satisfied: requests==2.28.1 in /usr/local/lib/python3.8/dist-packages (from monailabel) (2.28.1)\n",
            "Requirement already satisfied: python-multipart==0.0.5 in /usr/local/lib/python3.8/dist-packages (from monailabel) (0.0.5)\n",
            "Requirement already satisfied: python-dotenv==0.20.0 in /usr/local/lib/python3.8/dist-packages (from monailabel) (0.20.0)\n",
            "Requirement already satisfied: filelock==3.7.1 in /usr/local/lib/python3.8/dist-packages (from monailabel) (3.7.1)\n",
            "Requirement already satisfied: passlib==1.7.4 in /usr/local/lib/python3.8/dist-packages (from monailabel) (1.7.4)\n",
            "Requirement already satisfied: scikit-learn in /usr/local/lib/python3.8/dist-packages (from monailabel) (1.0.2)\n",
            "Requirement already satisfied: shapely==1.8.2 in /usr/local/lib/python3.8/dist-packages (from monailabel) (1.8.2)\n",
            "Requirement already satisfied: numpymaxflow==0.0.5 in /usr/local/lib/python3.8/dist-packages (from monailabel) (0.0.5)\n",
            "Requirement already satisfied: scipy in /usr/local/lib/python3.8/dist-packages (from monailabel) (1.7.3)\n",
            "Requirement already satisfied: schedule==1.1.0 in /usr/local/lib/python3.8/dist-packages (from monailabel) (1.1.0)\n",
            "Requirement already satisfied: uvicorn==0.17.6 in /usr/local/lib/python3.8/dist-packages (from monailabel) (0.17.6)\n",
            "Requirement already satisfied: httpx==0.23.0 in /usr/local/lib/python3.8/dist-packages (from monailabel) (0.23.0)\n",
            "Requirement already satisfied: ninja==1.10.2.3 in /usr/local/lib/python3.8/dist-packages (from monailabel) (1.10.2.3)\n",
            "Requirement already satisfied: PyYAML==6.0 in /usr/local/lib/python3.8/dist-packages (from monailabel) (6.0)\n",
            "Requirement already satisfied: watchdog==2.1.8 in /usr/local/lib/python3.8/dist-packages (from monailabel) (2.1.8)\n",
            "Requirement already satisfied: cachetools==5.2.0 in /usr/local/lib/python3.8/dist-packages (from monailabel) (5.2.0)\n",
            "Requirement already satisfied: python-jose[cryptography]==3.3.0 in /usr/local/lib/python3.8/dist-packages (from monailabel) (3.3.0)\n",
            "Requirement already satisfied: girder-client==3.1.14 in /usr/local/lib/python3.8/dist-packages (from monailabel) (3.1.14)\n",
            "Requirement already satisfied: requests-toolbelt==0.9.1 in /usr/local/lib/python3.8/dist-packages (from monailabel) (0.9.1)\n",
            "Requirement already satisfied: expiring-dict==1.1.0 in /usr/local/lib/python3.8/dist-packages (from monailabel) (1.1.0)\n",
            "Requirement already satisfied: pydicom==2.3.0 in /usr/local/lib/python3.8/dist-packages (from monailabel) (2.3.0)\n",
            "Requirement already satisfied: bcrypt==3.2.2 in /usr/local/lib/python3.8/dist-packages (from monailabel) (3.2.2)\n",
            "Requirement already satisfied: pydantic>=1.8.2 in /usr/local/lib/python3.8/dist-packages (from monailabel) (1.10.4)\n",
            "Requirement already satisfied: timeloop==1.0.2 in /usr/local/lib/python3.8/dist-packages (from monailabel) (1.0.2)\n",
            "Requirement already satisfied: expiringdict==1.2.1 in /usr/local/lib/python3.8/dist-packages (from monailabel) (1.2.1)\n",
            "Requirement already satisfied: pynetdicom==2.0.2 in /usr/local/lib/python3.8/dist-packages (from monailabel) (2.0.2)\n",
            "Requirement already satisfied: monai[fire,gdown,ignite,itk,lmdb,mlflow,nibabel,openslide,pillow,psutil,skimage,tensorboard,torchvision,tqdm]>=1.1.0 in /usr/local/lib/python3.8/dist-packages (from monailabel) (1.1.0)\n",
            "Requirement already satisfied: opencv-python-headless==4.5.5.64 in /usr/local/lib/python3.8/dist-packages (from monailabel) (4.5.5.64)\n",
            "Requirement already satisfied: dicomweb-client==0.56.2 in /usr/local/lib/python3.8/dist-packages (from monailabel) (0.56.2)\n",
            "Requirement already satisfied: torch>=1.7 in /usr/local/lib/python3.8/dist-packages (from monailabel) (1.13.1+cu116)\n",
            "Requirement already satisfied: cffi>=1.1 in /usr/local/lib/python3.8/dist-packages (from bcrypt==3.2.2->monailabel) (1.15.1)\n",
            "Requirement already satisfied: retrying>=1.3.3 in /usr/local/lib/python3.8/dist-packages (from dicomweb-client==0.56.2->monailabel) (1.3.4)\n",
            "Requirement already satisfied: Pillow>=8.3 in /usr/local/lib/python3.8/dist-packages (from dicomweb-client==0.56.2->monailabel) (9.4.0)\n",
            "Requirement already satisfied: numpy>=1.19 in /usr/local/lib/python3.8/dist-packages (from dicomweb-client==0.56.2->monailabel) (1.21.6)\n",
            "Requirement already satisfied: sortedcontainers in /usr/local/lib/python3.8/dist-packages (from expiring-dict==1.1.0->monailabel) (2.4.0)\n",
            "Requirement already satisfied: starlette==0.19.1 in /usr/local/lib/python3.8/dist-packages (from fastapi==0.78.0->monailabel) (0.19.1)\n",
            "Requirement already satisfied: diskcache in /usr/local/lib/python3.8/dist-packages (from girder-client==3.1.14->monailabel) (5.4.0)\n",
            "Requirement already satisfied: click>=6.7 in /usr/local/lib/python3.8/dist-packages (from girder-client==3.1.14->monailabel) (7.1.2)\n",
            "Requirement already satisfied: rfc3986[idna2008]<2,>=1.3 in /usr/local/lib/python3.8/dist-packages (from httpx==0.23.0->monailabel) (1.5.0)\n",
            "Requirement already satisfied: sniffio in /usr/local/lib/python3.8/dist-packages (from httpx==0.23.0->monailabel) (1.3.0)\n",
            "Requirement already satisfied: certifi in /usr/local/lib/python3.8/dist-packages (from httpx==0.23.0->monailabel) (2022.12.7)\n",
            "Requirement already satisfied: httpcore<0.16.0,>=0.15.0 in /usr/local/lib/python3.8/dist-packages (from httpx==0.23.0->monailabel) (0.15.0)\n",
            "Requirement already satisfied: jsonschema<4.0.0,>=3.2.0 in /usr/local/lib/python3.8/dist-packages (from pydicom-seg==0.4.0->monailabel) (3.2.0)\n",
            "Requirement already satisfied: SimpleITK>1.2.4 in /usr/local/lib/python3.8/dist-packages (from pydicom-seg==0.4.0->monailabel) (2.2.1)\n",
            "Requirement already satisfied: pyasn1 in /usr/local/lib/python3.8/dist-packages (from python-jose[cryptography]==3.3.0->monailabel) (0.4.8)\n",
            "Requirement already satisfied: ecdsa!=0.15 in /usr/local/lib/python3.8/dist-packages (from python-jose[cryptography]==3.3.0->monailabel) (0.18.0)\n",
            "Requirement already satisfied: rsa in /usr/local/lib/python3.8/dist-packages (from python-jose[cryptography]==3.3.0->monailabel) (4.9)\n",
            "Requirement already satisfied: cryptography>=3.4.0 in /usr/local/lib/python3.8/dist-packages (from python-jose[cryptography]==3.3.0->monailabel) (39.0.0)\n",
            "Requirement already satisfied: six>=1.4.0 in /usr/local/lib/python3.8/dist-packages (from python-multipart==0.0.5->monailabel) (1.15.0)\n",
            "Requirement already satisfied: charset-normalizer<3,>=2 in /usr/local/lib/python3.8/dist-packages (from requests==2.28.1->monailabel) (2.1.1)\n",
            "Requirement already satisfied: idna<4,>=2.5 in /usr/local/lib/python3.8/dist-packages (from requests==2.28.1->monailabel) (2.10)\n",
            "Requirement already satisfied: urllib3<1.27,>=1.21.1 in /usr/local/lib/python3.8/dist-packages (from requests==2.28.1->monailabel) (1.26.14)\n",
            "Requirement already satisfied: h11>=0.8 in /usr/local/lib/python3.8/dist-packages (from uvicorn==0.17.6->monailabel) (0.12.0)\n",
            "Requirement already satisfied: asgiref>=3.4.0 in /usr/local/lib/python3.8/dist-packages (from uvicorn==0.17.6->monailabel) (3.6.0)\n",
            "Requirement already satisfied: typing-extensions>=3.10.0 in /usr/local/lib/python3.8/dist-packages (from starlette==0.19.1->fastapi==0.78.0->monailabel) (4.4.0)\n",
            "Requirement already satisfied: anyio<5,>=3.4.0 in /usr/local/lib/python3.8/dist-packages (from starlette==0.19.1->fastapi==0.78.0->monailabel) (3.6.2)\n",
            "Requirement already satisfied: nibabel in /usr/local/lib/python3.8/dist-packages (from monai[fire,gdown,ignite,itk,lmdb,mlflow,nibabel,openslide,pillow,psutil,skimage,tensorboard,torchvision,tqdm]>=1.1.0->monailabel) (3.0.2)\n",
            "Requirement already satisfied: openslide-python==1.1.2 in /usr/local/lib/python3.8/dist-packages (from monai[fire,gdown,ignite,itk,lmdb,mlflow,nibabel,openslide,pillow,psutil,skimage,tensorboard,torchvision,tqdm]>=1.1.0->monailabel) (1.1.2)\n",
            "Requirement already satisfied: lmdb in /usr/local/lib/python3.8/dist-packages (from monai[fire,gdown,ignite,itk,lmdb,mlflow,nibabel,openslide,pillow,psutil,skimage,tensorboard,torchvision,tqdm]>=1.1.0->monailabel) (0.99)\n",
            "Requirement already satisfied: gdown>=4.4.0 in /usr/local/lib/python3.8/dist-packages (from monai[fire,gdown,ignite,itk,lmdb,mlflow,nibabel,openslide,pillow,psutil,skimage,tensorboard,torchvision,tqdm]>=1.1.0->monailabel) (4.4.0)\n",
            "Requirement already satisfied: itk>=5.2 in /usr/local/lib/python3.8/dist-packages (from monai[fire,gdown,ignite,itk,lmdb,mlflow,nibabel,openslide,pillow,psutil,skimage,tensorboard,torchvision,tqdm]>=1.1.0->monailabel) (5.3.0)\n",
            "Requirement already satisfied: psutil in /usr/local/lib/python3.8/dist-packages (from monai[fire,gdown,ignite,itk,lmdb,mlflow,nibabel,openslide,pillow,psutil,skimage,tensorboard,torchvision,tqdm]>=1.1.0->monailabel) (5.4.8)\n",
            "Requirement already satisfied: tqdm>=4.47.0 in /usr/local/lib/python3.8/dist-packages (from monai[fire,gdown,ignite,itk,lmdb,mlflow,nibabel,openslide,pillow,psutil,skimage,tensorboard,torchvision,tqdm]>=1.1.0->monailabel) (4.64.1)\n",
            "Requirement already satisfied: scikit-image>=0.14.2 in /usr/local/lib/python3.8/dist-packages (from monai[fire,gdown,ignite,itk,lmdb,mlflow,nibabel,openslide,pillow,psutil,skimage,tensorboard,torchvision,tqdm]>=1.1.0->monailabel) (0.18.3)\n",
            "Requirement already satisfied: pytorch-ignite==0.4.10 in /usr/local/lib/python3.8/dist-packages (from monai[fire,gdown,ignite,itk,lmdb,mlflow,nibabel,openslide,pillow,psutil,skimage,tensorboard,torchvision,tqdm]>=1.1.0->monailabel) (0.4.10)\n",
            "Requirement already satisfied: torchvision in /usr/local/lib/python3.8/dist-packages (from monai[fire,gdown,ignite,itk,lmdb,mlflow,nibabel,openslide,pillow,psutil,skimage,tensorboard,torchvision,tqdm]>=1.1.0->monailabel) (0.14.1+cu116)\n",
            "Requirement already satisfied: tensorboard in /usr/local/lib/python3.8/dist-packages (from monai[fire,gdown,ignite,itk,lmdb,mlflow,nibabel,openslide,pillow,psutil,skimage,tensorboard,torchvision,tqdm]>=1.1.0->monailabel) (2.9.1)\n",
            "Requirement already satisfied: fire in /usr/local/lib/python3.8/dist-packages (from monai[fire,gdown,ignite,itk,lmdb,mlflow,nibabel,openslide,pillow,psutil,skimage,tensorboard,torchvision,tqdm]>=1.1.0->monailabel) (0.5.0)\n",
            "Requirement already satisfied: mlflow in /usr/local/lib/python3.8/dist-packages (from monai[fire,gdown,ignite,itk,lmdb,mlflow,nibabel,openslide,pillow,psutil,skimage,tensorboard,torchvision,tqdm]>=1.1.0->monailabel) (2.1.1)\n",
            "Requirement already satisfied: packaging in /usr/local/lib/python3.8/dist-packages (from pytorch-ignite==0.4.10->monai[fire,gdown,ignite,itk,lmdb,mlflow,nibabel,openslide,pillow,psutil,skimage,tensorboard,torchvision,tqdm]>=1.1.0->monailabel) (22.0)\n",
            "Requirement already satisfied: threadpoolctl>=2.0.0 in /usr/local/lib/python3.8/dist-packages (from scikit-learn->monailabel) (3.1.0)\n",
            "Requirement already satisfied: joblib>=0.11 in /usr/local/lib/python3.8/dist-packages (from scikit-learn->monailabel) (1.2.0)\n",
            "Requirement already satisfied: pycparser in /usr/local/lib/python3.8/dist-packages (from cffi>=1.1->bcrypt==3.2.2->monailabel) (2.21)\n",
            "Requirement already satisfied: beautifulsoup4 in /usr/local/lib/python3.8/dist-packages (from gdown>=4.4.0->monai[fire,gdown,ignite,itk,lmdb,mlflow,nibabel,openslide,pillow,psutil,skimage,tensorboard,torchvision,tqdm]>=1.1.0->monailabel) (4.6.3)\n",
            "Requirement already satisfied: itk-core==5.3.0 in /usr/local/lib/python3.8/dist-packages (from itk>=5.2->monai[fire,gdown,ignite,itk,lmdb,mlflow,nibabel,openslide,pillow,psutil,skimage,tensorboard,torchvision,tqdm]>=1.1.0->monailabel) (5.3.0)\n",
            "Requirement already satisfied: itk-segmentation==5.3.0 in /usr/local/lib/python3.8/dist-packages (from itk>=5.2->monai[fire,gdown,ignite,itk,lmdb,mlflow,nibabel,openslide,pillow,psutil,skimage,tensorboard,torchvision,tqdm]>=1.1.0->monailabel) (5.3.0)\n",
            "Requirement already satisfied: itk-registration==5.3.0 in /usr/local/lib/python3.8/dist-packages (from itk>=5.2->monai[fire,gdown,ignite,itk,lmdb,mlflow,nibabel,openslide,pillow,psutil,skimage,tensorboard,torchvision,tqdm]>=1.1.0->monailabel) (5.3.0)\n",
            "Requirement already satisfied: itk-numerics==5.3.0 in /usr/local/lib/python3.8/dist-packages (from itk>=5.2->monai[fire,gdown,ignite,itk,lmdb,mlflow,nibabel,openslide,pillow,psutil,skimage,tensorboard,torchvision,tqdm]>=1.1.0->monailabel) (5.3.0)\n",
            "Requirement already satisfied: itk-filtering==5.3.0 in /usr/local/lib/python3.8/dist-packages (from itk>=5.2->monai[fire,gdown,ignite,itk,lmdb,mlflow,nibabel,openslide,pillow,psutil,skimage,tensorboard,torchvision,tqdm]>=1.1.0->monailabel) (5.3.0)\n",
            "Requirement already satisfied: itk-io==5.3.0 in /usr/local/lib/python3.8/dist-packages (from itk>=5.2->monai[fire,gdown,ignite,itk,lmdb,mlflow,nibabel,openslide,pillow,psutil,skimage,tensorboard,torchvision,tqdm]>=1.1.0->monailabel) (5.3.0)\n",
            "Requirement already satisfied: pyrsistent>=0.14.0 in /usr/local/lib/python3.8/dist-packages (from jsonschema<4.0.0,>=3.2.0->pydicom-seg==0.4.0->monailabel) (0.19.3)\n",
            "Requirement already satisfied: attrs>=17.4.0 in /usr/local/lib/python3.8/dist-packages (from jsonschema<4.0.0,>=3.2.0->pydicom-seg==0.4.0->monailabel) (22.2.0)\n",
            "Requirement already satisfied: setuptools in /usr/local/lib/python3.8/dist-packages (from jsonschema<4.0.0,>=3.2.0->pydicom-seg==0.4.0->monailabel) (57.4.0)\n",
            "Requirement already satisfied: matplotlib!=3.0.0,>=2.0.0 in /usr/local/lib/python3.8/dist-packages (from scikit-image>=0.14.2->monai[fire,gdown,ignite,itk,lmdb,mlflow,nibabel,openslide,pillow,psutil,skimage,tensorboard,torchvision,tqdm]>=1.1.0->monailabel) (3.2.2)\n",
            "Requirement already satisfied: imageio>=2.3.0 in /usr/local/lib/python3.8/dist-packages (from scikit-image>=0.14.2->monai[fire,gdown,ignite,itk,lmdb,mlflow,nibabel,openslide,pillow,psutil,skimage,tensorboard,torchvision,tqdm]>=1.1.0->monailabel) (2.9.0)\n",
            "Requirement already satisfied: tifffile>=2019.7.26 in /usr/local/lib/python3.8/dist-packages (from scikit-image>=0.14.2->monai[fire,gdown,ignite,itk,lmdb,mlflow,nibabel,openslide,pillow,psutil,skimage,tensorboard,torchvision,tqdm]>=1.1.0->monailabel) (2023.1.23.1)\n",
            "Requirement already satisfied: PyWavelets>=1.1.1 in /usr/local/lib/python3.8/dist-packages (from scikit-image>=0.14.2->monai[fire,gdown,ignite,itk,lmdb,mlflow,nibabel,openslide,pillow,psutil,skimage,tensorboard,torchvision,tqdm]>=1.1.0->monailabel) (1.4.1)\n",
            "Requirement already satisfied: networkx>=2.0 in /usr/local/lib/python3.8/dist-packages (from scikit-image>=0.14.2->monai[fire,gdown,ignite,itk,lmdb,mlflow,nibabel,openslide,pillow,psutil,skimage,tensorboard,torchvision,tqdm]>=1.1.0->monailabel) (3.0)\n",
            "Requirement already satisfied: termcolor in /usr/local/lib/python3.8/dist-packages (from fire->monai[fire,gdown,ignite,itk,lmdb,mlflow,nibabel,openslide,pillow,psutil,skimage,tensorboard,torchvision,tqdm]>=1.1.0->monailabel) (2.2.0)\n",
            "Requirement already satisfied: pandas<2 in /usr/local/lib/python3.8/dist-packages (from mlflow->monai[fire,gdown,ignite,itk,lmdb,mlflow,nibabel,openslide,pillow,psutil,skimage,tensorboard,torchvision,tqdm]>=1.1.0->monailabel) (1.3.5)\n",
            "Requirement already satisfied: Flask<3 in /usr/local/lib/python3.8/dist-packages (from mlflow->monai[fire,gdown,ignite,itk,lmdb,mlflow,nibabel,openslide,pillow,psutil,skimage,tensorboard,torchvision,tqdm]>=1.1.0->monailabel) (1.1.4)\n",
            "Requirement already satisfied: Jinja2<4,>=2.11 in /usr/local/lib/python3.8/dist-packages (from mlflow->monai[fire,gdown,ignite,itk,lmdb,mlflow,nibabel,openslide,pillow,psutil,skimage,tensorboard,torchvision,tqdm]>=1.1.0->monailabel) (2.11.3)\n",
            "Requirement already satisfied: pytz<2023 in /usr/local/lib/python3.8/dist-packages (from mlflow->monai[fire,gdown,ignite,itk,lmdb,mlflow,nibabel,openslide,pillow,psutil,skimage,tensorboard,torchvision,tqdm]>=1.1.0->monailabel) (2022.7.1)\n",
            "Requirement already satisfied: sqlparse<1,>=0.4.0 in /usr/local/lib/python3.8/dist-packages (from mlflow->monai[fire,gdown,ignite,itk,lmdb,mlflow,nibabel,openslide,pillow,psutil,skimage,tensorboard,torchvision,tqdm]>=1.1.0->monailabel) (0.4.3)\n",
            "Requirement already satisfied: querystring-parser<2 in /usr/local/lib/python3.8/dist-packages (from mlflow->monai[fire,gdown,ignite,itk,lmdb,mlflow,nibabel,openslide,pillow,psutil,skimage,tensorboard,torchvision,tqdm]>=1.1.0->monailabel) (1.2.4)\n",
            "Requirement already satisfied: sqlalchemy<2,>=1.4.0 in /usr/local/lib/python3.8/dist-packages (from mlflow->monai[fire,gdown,ignite,itk,lmdb,mlflow,nibabel,openslide,pillow,psutil,skimage,tensorboard,torchvision,tqdm]>=1.1.0->monailabel) (1.4.46)\n",
            "Requirement already satisfied: shap<1,>=0.40 in /usr/local/lib/python3.8/dist-packages (from mlflow->monai[fire,gdown,ignite,itk,lmdb,mlflow,nibabel,openslide,pillow,psutil,skimage,tensorboard,torchvision,tqdm]>=1.1.0->monailabel) (0.41.0)\n",
            "Requirement already satisfied: gitpython<4,>=2.1.0 in /usr/local/lib/python3.8/dist-packages (from mlflow->monai[fire,gdown,ignite,itk,lmdb,mlflow,nibabel,openslide,pillow,psutil,skimage,tensorboard,torchvision,tqdm]>=1.1.0->monailabel) (3.1.30)\n",
            "Requirement already satisfied: entrypoints<1 in /usr/local/lib/python3.8/dist-packages (from mlflow->monai[fire,gdown,ignite,itk,lmdb,mlflow,nibabel,openslide,pillow,psutil,skimage,tensorboard,torchvision,tqdm]>=1.1.0->monailabel) (0.4)\n",
            "Requirement already satisfied: cloudpickle<3 in /usr/local/lib/python3.8/dist-packages (from mlflow->monai[fire,gdown,ignite,itk,lmdb,mlflow,nibabel,openslide,pillow,psutil,skimage,tensorboard,torchvision,tqdm]>=1.1.0->monailabel) (2.2.1)\n",
            "Requirement already satisfied: alembic<2 in /usr/local/lib/python3.8/dist-packages (from mlflow->monai[fire,gdown,ignite,itk,lmdb,mlflow,nibabel,openslide,pillow,psutil,skimage,tensorboard,torchvision,tqdm]>=1.1.0->monailabel) (1.9.2)\n",
            "Requirement already satisfied: gunicorn<21 in /usr/local/lib/python3.8/dist-packages (from mlflow->monai[fire,gdown,ignite,itk,lmdb,mlflow,nibabel,openslide,pillow,psutil,skimage,tensorboard,torchvision,tqdm]>=1.1.0->monailabel) (20.1.0)\n",
            "Requirement already satisfied: protobuf<5,>=3.12.0 in /usr/local/lib/python3.8/dist-packages (from mlflow->monai[fire,gdown,ignite,itk,lmdb,mlflow,nibabel,openslide,pillow,psutil,skimage,tensorboard,torchvision,tqdm]>=1.1.0->monailabel) (3.19.6)\n",
            "Requirement already satisfied: pyarrow<11,>=4.0.0 in /usr/local/lib/python3.8/dist-packages (from mlflow->monai[fire,gdown,ignite,itk,lmdb,mlflow,nibabel,openslide,pillow,psutil,skimage,tensorboard,torchvision,tqdm]>=1.1.0->monailabel) (9.0.0)\n",
            "Requirement already satisfied: docker<7,>=4.0.0 in /usr/local/lib/python3.8/dist-packages (from mlflow->monai[fire,gdown,ignite,itk,lmdb,mlflow,nibabel,openslide,pillow,psutil,skimage,tensorboard,torchvision,tqdm]>=1.1.0->monailabel) (6.0.1)\n",
            "Requirement already satisfied: databricks-cli<1,>=0.8.7 in /usr/local/lib/python3.8/dist-packages (from mlflow->monai[fire,gdown,ignite,itk,lmdb,mlflow,nibabel,openslide,pillow,psutil,skimage,tensorboard,torchvision,tqdm]>=1.1.0->monailabel) (0.17.4)\n",
            "Requirement already satisfied: importlib-metadata!=4.7.0,<6,>=3.7.0 in /usr/local/lib/python3.8/dist-packages (from mlflow->monai[fire,gdown,ignite,itk,lmdb,mlflow,nibabel,openslide,pillow,psutil,skimage,tensorboard,torchvision,tqdm]>=1.1.0->monailabel) (5.2.0)\n",
            "Requirement already satisfied: markdown<4,>=3.3 in /usr/local/lib/python3.8/dist-packages (from mlflow->monai[fire,gdown,ignite,itk,lmdb,mlflow,nibabel,openslide,pillow,psutil,skimage,tensorboard,torchvision,tqdm]>=1.1.0->monailabel) (3.4.1)\n",
            "Requirement already satisfied: tensorboard-plugin-wit>=1.6.0 in /usr/local/lib/python3.8/dist-packages (from tensorboard->monai[fire,gdown,ignite,itk,lmdb,mlflow,nibabel,openslide,pillow,psutil,skimage,tensorboard,torchvision,tqdm]>=1.1.0->monailabel) (1.8.1)\n",
            "Requirement already satisfied: grpcio>=1.24.3 in /usr/local/lib/python3.8/dist-packages (from tensorboard->monai[fire,gdown,ignite,itk,lmdb,mlflow,nibabel,openslide,pillow,psutil,skimage,tensorboard,torchvision,tqdm]>=1.1.0->monailabel) (1.51.1)\n",
            "Requirement already satisfied: google-auth<3,>=1.6.3 in /usr/local/lib/python3.8/dist-packages (from tensorboard->monai[fire,gdown,ignite,itk,lmdb,mlflow,nibabel,openslide,pillow,psutil,skimage,tensorboard,torchvision,tqdm]>=1.1.0->monailabel) (2.16.0)\n",
            "Requirement already satisfied: google-auth-oauthlib<0.5,>=0.4.1 in /usr/local/lib/python3.8/dist-packages (from tensorboard->monai[fire,gdown,ignite,itk,lmdb,mlflow,nibabel,openslide,pillow,psutil,skimage,tensorboard,torchvision,tqdm]>=1.1.0->monailabel) (0.4.6)\n",
            "Requirement already satisfied: tensorboard-data-server<0.7.0,>=0.6.0 in /usr/local/lib/python3.8/dist-packages (from tensorboard->monai[fire,gdown,ignite,itk,lmdb,mlflow,nibabel,openslide,pillow,psutil,skimage,tensorboard,torchvision,tqdm]>=1.1.0->monailabel) (0.6.1)\n",
            "Requirement already satisfied: absl-py>=0.4 in /usr/local/lib/python3.8/dist-packages (from tensorboard->monai[fire,gdown,ignite,itk,lmdb,mlflow,nibabel,openslide,pillow,psutil,skimage,tensorboard,torchvision,tqdm]>=1.1.0->monailabel) (1.4.0)\n",
            "Requirement already satisfied: werkzeug>=1.0.1 in /usr/local/lib/python3.8/dist-packages (from tensorboard->monai[fire,gdown,ignite,itk,lmdb,mlflow,nibabel,openslide,pillow,psutil,skimage,tensorboard,torchvision,tqdm]>=1.1.0->monailabel) (1.0.1)\n",
            "Requirement already satisfied: wheel>=0.26 in /usr/local/lib/python3.8/dist-packages (from tensorboard->monai[fire,gdown,ignite,itk,lmdb,mlflow,nibabel,openslide,pillow,psutil,skimage,tensorboard,torchvision,tqdm]>=1.1.0->monailabel) (0.38.4)\n",
            "Requirement already satisfied: Mako in /usr/local/lib/python3.8/dist-packages (from alembic<2->mlflow->monai[fire,gdown,ignite,itk,lmdb,mlflow,nibabel,openslide,pillow,psutil,skimage,tensorboard,torchvision,tqdm]>=1.1.0->monailabel) (1.2.4)\n",
            "Requirement already satisfied: importlib-resources in /usr/local/lib/python3.8/dist-packages (from alembic<2->mlflow->monai[fire,gdown,ignite,itk,lmdb,mlflow,nibabel,openslide,pillow,psutil,skimage,tensorboard,torchvision,tqdm]>=1.1.0->monailabel) (5.10.2)\n",
            "Requirement already satisfied: pyjwt>=1.7.0 in /usr/local/lib/python3.8/dist-packages (from databricks-cli<1,>=0.8.7->mlflow->monai[fire,gdown,ignite,itk,lmdb,mlflow,nibabel,openslide,pillow,psutil,skimage,tensorboard,torchvision,tqdm]>=1.1.0->monailabel) (2.6.0)\n",
            "Requirement already satisfied: tabulate>=0.7.7 in /usr/local/lib/python3.8/dist-packages (from databricks-cli<1,>=0.8.7->mlflow->monai[fire,gdown,ignite,itk,lmdb,mlflow,nibabel,openslide,pillow,psutil,skimage,tensorboard,torchvision,tqdm]>=1.1.0->monailabel) (0.8.10)\n",
            "Requirement already satisfied: oauthlib>=3.1.0 in /usr/local/lib/python3.8/dist-packages (from databricks-cli<1,>=0.8.7->mlflow->monai[fire,gdown,ignite,itk,lmdb,mlflow,nibabel,openslide,pillow,psutil,skimage,tensorboard,torchvision,tqdm]>=1.1.0->monailabel) (3.2.2)\n",
            "Requirement already satisfied: websocket-client>=0.32.0 in /usr/local/lib/python3.8/dist-packages (from docker<7,>=4.0.0->mlflow->monai[fire,gdown,ignite,itk,lmdb,mlflow,nibabel,openslide,pillow,psutil,skimage,tensorboard,torchvision,tqdm]>=1.1.0->monailabel) (1.5.1)\n",
            "Requirement already satisfied: itsdangerous<2.0,>=0.24 in /usr/local/lib/python3.8/dist-packages (from Flask<3->mlflow->monai[fire,gdown,ignite,itk,lmdb,mlflow,nibabel,openslide,pillow,psutil,skimage,tensorboard,torchvision,tqdm]>=1.1.0->monailabel) (1.1.0)\n",
            "Requirement already satisfied: gitdb<5,>=4.0.1 in /usr/local/lib/python3.8/dist-packages (from gitpython<4,>=2.1.0->mlflow->monai[fire,gdown,ignite,itk,lmdb,mlflow,nibabel,openslide,pillow,psutil,skimage,tensorboard,torchvision,tqdm]>=1.1.0->monailabel) (4.0.10)\n",
            "Requirement already satisfied: pyasn1-modules>=0.2.1 in /usr/local/lib/python3.8/dist-packages (from google-auth<3,>=1.6.3->tensorboard->monai[fire,gdown,ignite,itk,lmdb,mlflow,nibabel,openslide,pillow,psutil,skimage,tensorboard,torchvision,tqdm]>=1.1.0->monailabel) (0.2.8)\n",
            "Requirement already satisfied: requests-oauthlib>=0.7.0 in /usr/local/lib/python3.8/dist-packages (from google-auth-oauthlib<0.5,>=0.4.1->tensorboard->monai[fire,gdown,ignite,itk,lmdb,mlflow,nibabel,openslide,pillow,psutil,skimage,tensorboard,torchvision,tqdm]>=1.1.0->monailabel) (1.3.1)\n",
            "Requirement already satisfied: zipp>=0.5 in /usr/local/lib/python3.8/dist-packages (from importlib-metadata!=4.7.0,<6,>=3.7.0->mlflow->monai[fire,gdown,ignite,itk,lmdb,mlflow,nibabel,openslide,pillow,psutil,skimage,tensorboard,torchvision,tqdm]>=1.1.0->monailabel) (3.12.0)\n",
            "Requirement already satisfied: MarkupSafe>=0.23 in /usr/local/lib/python3.8/dist-packages (from Jinja2<4,>=2.11->mlflow->monai[fire,gdown,ignite,itk,lmdb,mlflow,nibabel,openslide,pillow,psutil,skimage,tensorboard,torchvision,tqdm]>=1.1.0->monailabel) (2.0.1)\n",
            "Requirement already satisfied: python-dateutil>=2.1 in /usr/local/lib/python3.8/dist-packages (from matplotlib!=3.0.0,>=2.0.0->scikit-image>=0.14.2->monai[fire,gdown,ignite,itk,lmdb,mlflow,nibabel,openslide,pillow,psutil,skimage,tensorboard,torchvision,tqdm]>=1.1.0->monailabel) (2.8.2)\n",
            "Requirement already satisfied: cycler>=0.10 in /usr/local/lib/python3.8/dist-packages (from matplotlib!=3.0.0,>=2.0.0->scikit-image>=0.14.2->monai[fire,gdown,ignite,itk,lmdb,mlflow,nibabel,openslide,pillow,psutil,skimage,tensorboard,torchvision,tqdm]>=1.1.0->monailabel) (0.11.0)\n",
            "Requirement already satisfied: pyparsing!=2.0.4,!=2.1.2,!=2.1.6,>=2.0.1 in /usr/local/lib/python3.8/dist-packages (from matplotlib!=3.0.0,>=2.0.0->scikit-image>=0.14.2->monai[fire,gdown,ignite,itk,lmdb,mlflow,nibabel,openslide,pillow,psutil,skimage,tensorboard,torchvision,tqdm]>=1.1.0->monailabel) (3.0.9)\n",
            "Requirement already satisfied: kiwisolver>=1.0.1 in /usr/local/lib/python3.8/dist-packages (from matplotlib!=3.0.0,>=2.0.0->scikit-image>=0.14.2->monai[fire,gdown,ignite,itk,lmdb,mlflow,nibabel,openslide,pillow,psutil,skimage,tensorboard,torchvision,tqdm]>=1.1.0->monailabel) (1.4.4)\n",
            "Requirement already satisfied: slicer==0.0.7 in /usr/local/lib/python3.8/dist-packages (from shap<1,>=0.40->mlflow->monai[fire,gdown,ignite,itk,lmdb,mlflow,nibabel,openslide,pillow,psutil,skimage,tensorboard,torchvision,tqdm]>=1.1.0->monailabel) (0.0.7)\n",
            "Requirement already satisfied: numba in /usr/local/lib/python3.8/dist-packages (from shap<1,>=0.40->mlflow->monai[fire,gdown,ignite,itk,lmdb,mlflow,nibabel,openslide,pillow,psutil,skimage,tensorboard,torchvision,tqdm]>=1.1.0->monailabel) (0.56.4)\n",
            "Requirement already satisfied: greenlet!=0.4.17 in /usr/local/lib/python3.8/dist-packages (from sqlalchemy<2,>=1.4.0->mlflow->monai[fire,gdown,ignite,itk,lmdb,mlflow,nibabel,openslide,pillow,psutil,skimage,tensorboard,torchvision,tqdm]>=1.1.0->monailabel) (2.0.2)\n",
            "Requirement already satisfied: PySocks!=1.5.7,>=1.5.6 in /usr/local/lib/python3.8/dist-packages (from requests==2.28.1->monailabel) (1.7.1)\n",
            "Requirement already satisfied: smmap<6,>=3.0.1 in /usr/local/lib/python3.8/dist-packages (from gitdb<5,>=4.0.1->gitpython<4,>=2.1.0->mlflow->monai[fire,gdown,ignite,itk,lmdb,mlflow,nibabel,openslide,pillow,psutil,skimage,tensorboard,torchvision,tqdm]>=1.1.0->monailabel) (5.0.0)\n",
            "Requirement already satisfied: llvmlite<0.40,>=0.39.0dev0 in /usr/local/lib/python3.8/dist-packages (from numba->shap<1,>=0.40->mlflow->monai[fire,gdown,ignite,itk,lmdb,mlflow,nibabel,openslide,pillow,psutil,skimage,tensorboard,torchvision,tqdm]>=1.1.0->monailabel) (0.39.1)\n"
          ]
        }
      ],
      "source": [
        "#Instalo Monai Label\n",
        "# Voy a tener que reiniciar el entorno, lo pide al instalar\n",
        "!pip install monailabel"
      ]
    },
    {
      "cell_type": "code",
      "execution_count": null,
      "metadata": {
        "colab": {
          "base_uri": "https://localhost:8080/"
        },
        "id": "aDA947EOQQdh",
        "outputId": "4dfce7df-d9c1-46b0-d6af-77a800401220"
      },
      "outputs": [
        {
          "name": "stdout",
          "output_type": "stream",
          "text": [
            "Cloning into 'MONAILabel'...\n",
            "remote: Enumerating objects: 12471, done.\u001b[K\n",
            "remote: Counting objects: 100% (739/739), done.\u001b[K\n",
            "remote: Compressing objects: 100% (454/454), done.\u001b[K\n",
            "remote: Total 12471 (delta 375), reused 529 (delta 265), pack-reused 11732\u001b[K\n",
            "Receiving objects: 100% (12471/12471), 46.78 MiB | 11.01 MiB/s, done.\n",
            "Resolving deltas: 100% (8531/8531), done.\n"
          ]
        }
      ],
      "source": [
        "# Clono el repo de github de monai label ya que necesito tener las sample-apps porque no puedo usar directamente el comando de monailabel apps en google colab porque falla\n",
        "!git clone https://github.com/Project-MONAI/MONAILabel.git"
      ]
    },
    {
      "cell_type": "code",
      "execution_count": null,
      "metadata": {
        "colab": {
          "base_uri": "https://localhost:8080/"
        },
        "id": "W6n9tPrkQiTM",
        "outputId": "018c4cd1-8612-4ef3-8d5b-7c5192662df1"
      },
      "outputs": [
        {
          "name": "stdout",
          "output_type": "stream",
          "text": [
            "mkdir: cannot create directory ‘/content/test’: File exists\n",
            "mkdir: cannot create directory ‘/content/test/monailabel’: File exists\n"
          ]
        }
      ],
      "source": [
        "# Me creo una carpeta de test y copio ahi las sample-apps para no tener problemas\n",
        "\n",
        "!mkdir /content/test\n",
        "!mkdir /content/test/monailabel\n",
        "!cp -r /content/MONAILabel/sample-apps/ /content/test/monailabel/"
      ]
    },
    {
      "cell_type": "code",
      "execution_count": null,
      "metadata": {
        "colab": {
          "base_uri": "https://localhost:8080/"
        },
        "id": "xuilvIGjRQ0f",
        "outputId": "8f7682ba-4533-4c9d-f618-7ddb190981cb"
      },
      "outputs": [
        {
          "name": "stdout",
          "output_type": "stream",
          "text": [
            "Using PYTHONPATH=/usr:/env/python\n",
            "\n",
            "radiology is copied at: /content/sample-apps/radiology\n"
          ]
        }
      ],
      "source": [
        "# Descargo la APP haciendo referencia en el prefix a la carpeta que hemos bajado antes\n",
        "!monailabel apps --download --name radiology --output /content/sample-apps/ --prefix /content/test"
      ]
    },
    {
      "cell_type": "code",
      "execution_count": null,
      "metadata": {
        "colab": {
          "base_uri": "https://localhost:8080/"
        },
        "id": "u8bwYeyASC2e",
        "outputId": "0a7c6b35-a609-4677-c27b-54dde83b781e"
      },
      "outputs": [
        {
          "name": "stdout",
          "output_type": "stream",
          "text": [
            "Using PYTHONPATH=/usr:/env/python\n",
            "\n",
            "Task09_Spleen.tar: 1.50GB [01:56, 13.8MB/s]                \n",
            "2023-02-05 06:36:33,544 - INFO - Downloaded: Task09_Spleen.tar\n",
            "2023-02-05 06:36:36,564 - INFO - Verified 'Task09_Spleen.tar', md5: 410d4a301da4e5b2f6f86ec3ddba524e.\n",
            "2023-02-05 06:36:36,564 - INFO - Writing into directory: /content.\n",
            "Task09_Spleen is downloaded at: ./Task09_Spleen\n"
          ]
        }
      ],
      "source": [
        "# Descargo los datos de prueba de MSD de Spleen\n",
        "!monailabel datasets --download --name Task09_Spleen --output ."
      ]
    },
    {
      "cell_type": "code",
      "execution_count": null,
      "metadata": {
        "colab": {
          "base_uri": "https://localhost:8080/",
          "height": 34
        },
        "id": "dGzraVdMTfuZ",
        "outputId": "00635e18-8dd3-452b-c191-5a00571b74be"
      },
      "outputs": [
        {
          "name": "stdout",
          "output_type": "stream",
          "text": [
            "https://t4yalca6x6-496ff2e9c6d22116-8000-colab.googleusercontent.com/\n"
          ]
        }
      ],
      "source": [
        "from google.colab.output import eval_js\n",
        "print(eval_js(\"google.colab.kernel.proxyPort(8000)\"))"
      ]
    },
    {
      "cell_type": "code",
      "execution_count": null,
      "metadata": {
        "colab": {
          "background_save": true,
          "base_uri": "https://localhost:8080/"
        },
        "id": "3nrDqQR4SJkr",
        "outputId": "c5f0a757-824a-4872-e299-b90b0962a1df"
      },
      "outputs": [
        {
          "name": "stdout",
          "output_type": "stream",
          "text": [
            "Using PYTHONPATH=/usr:/env/python\n",
            "\n",
            "2023-02-05 06:41:29,043 - USING:: version = False\n",
            "2023-02-05 06:41:29,044 - USING:: app = /content/sample-apps/radiology\n",
            "2023-02-05 06:41:29,044 - USING:: studies = /content/Task09_Spleen/imagesTr\n",
            "2023-02-05 06:41:29,044 - USING:: verbose = INFO\n",
            "2023-02-05 06:41:29,044 - USING:: conf = [['models', 'deepedit']]\n",
            "2023-02-05 06:41:29,044 - USING:: host = 0.0.0.0\n",
            "2023-02-05 06:41:29,044 - USING:: port = 8000\n",
            "2023-02-05 06:41:29,044 - USING:: uvicorn_app = monailabel.app:app\n",
            "2023-02-05 06:41:29,044 - USING:: ssl_keyfile = None\n",
            "2023-02-05 06:41:29,044 - USING:: ssl_certfile = None\n",
            "2023-02-05 06:41:29,044 - USING:: ssl_keyfile_password = None\n",
            "2023-02-05 06:41:29,044 - USING:: ssl_ca_certs = None\n",
            "2023-02-05 06:41:29,044 - USING:: workers = None\n",
            "2023-02-05 06:41:29,044 - USING:: limit_concurrency = None\n",
            "2023-02-05 06:41:29,044 - USING:: access_log = False\n",
            "2023-02-05 06:41:29,044 - USING:: log_config = None\n",
            "2023-02-05 06:41:29,044 - USING:: dryrun = False\n",
            "2023-02-05 06:41:29,044 - USING:: action = start_server\n",
            "2023-02-05 06:41:29,044 - ENV SETTINGS:: MONAI_LABEL_API_STR = \n",
            "2023-02-05 06:41:29,044 - ENV SETTINGS:: MONAI_LABEL_PROJECT_NAME = MONAILabel\n",
            "2023-02-05 06:41:29,044 - ENV SETTINGS:: MONAI_LABEL_APP_DIR = \n",
            "2023-02-05 06:41:29,044 - ENV SETTINGS:: MONAI_LABEL_STUDIES = \n",
            "2023-02-05 06:41:29,044 - ENV SETTINGS:: MONAI_LABEL_AUTH_ENABLE = False\n",
            "2023-02-05 06:41:29,045 - ENV SETTINGS:: MONAI_LABEL_AUTH_DB = \n",
            "2023-02-05 06:41:29,045 - ENV SETTINGS:: MONAI_LABEL_APP_CONF = '{}'\n",
            "2023-02-05 06:41:29,045 - ENV SETTINGS:: MONAI_LABEL_TASKS_TRAIN = True\n",
            "2023-02-05 06:41:29,045 - ENV SETTINGS:: MONAI_LABEL_TASKS_STRATEGY = True\n",
            "2023-02-05 06:41:29,045 - ENV SETTINGS:: MONAI_LABEL_TASKS_SCORING = True\n",
            "2023-02-05 06:41:29,045 - ENV SETTINGS:: MONAI_LABEL_TASKS_BATCH_INFER = True\n",
            "2023-02-05 06:41:29,045 - ENV SETTINGS:: MONAI_LABEL_DATASTORE = \n",
            "2023-02-05 06:41:29,045 - ENV SETTINGS:: MONAI_LABEL_DATASTORE_URL = \n",
            "2023-02-05 06:41:29,045 - ENV SETTINGS:: MONAI_LABEL_DATASTORE_USERNAME = \n",
            "2023-02-05 06:41:29,045 - ENV SETTINGS:: MONAI_LABEL_DATASTORE_PASSWORD = \n",
            "2023-02-05 06:41:29,045 - ENV SETTINGS:: MONAI_LABEL_DATASTORE_API_KEY = \n",
            "2023-02-05 06:41:29,045 - ENV SETTINGS:: MONAI_LABEL_DATASTORE_CACHE_PATH = \n",
            "2023-02-05 06:41:29,045 - ENV SETTINGS:: MONAI_LABEL_DATASTORE_PROJECT = \n",
            "2023-02-05 06:41:29,045 - ENV SETTINGS:: MONAI_LABEL_DATASTORE_ASSET_PATH = \n",
            "2023-02-05 06:41:29,045 - ENV SETTINGS:: MONAI_LABEL_DATASTORE_DSA_ANNOTATION_GROUPS = \n",
            "2023-02-05 06:41:29,045 - ENV SETTINGS:: MONAI_LABEL_DICOMWEB_USERNAME = \n",
            "2023-02-05 06:41:29,045 - ENV SETTINGS:: MONAI_LABEL_DICOMWEB_PASSWORD = \n",
            "2023-02-05 06:41:29,045 - ENV SETTINGS:: MONAI_LABEL_DICOMWEB_CACHE_PATH = \n",
            "2023-02-05 06:41:29,045 - ENV SETTINGS:: MONAI_LABEL_QIDO_PREFIX = None\n",
            "2023-02-05 06:41:29,045 - ENV SETTINGS:: MONAI_LABEL_WADO_PREFIX = None\n",
            "2023-02-05 06:41:29,045 - ENV SETTINGS:: MONAI_LABEL_STOW_PREFIX = None\n",
            "2023-02-05 06:41:29,045 - ENV SETTINGS:: MONAI_LABEL_DICOMWEB_FETCH_BY_FRAME = False\n",
            "2023-02-05 06:41:29,045 - ENV SETTINGS:: MONAI_LABEL_DICOMWEB_CONVERT_TO_NIFTI = True\n",
            "2023-02-05 06:41:29,045 - ENV SETTINGS:: MONAI_LABEL_DICOMWEB_SEARCH_FILTER = '{\"Modality\": \"CT\"}'\n",
            "2023-02-05 06:41:29,045 - ENV SETTINGS:: MONAI_LABEL_DICOMWEB_CACHE_EXPIRY = 180\n",
            "2023-02-05 06:41:29,045 - ENV SETTINGS:: MONAI_LABEL_DICOMWEB_PROXY_TIMEOUT = 30.0\n",
            "2023-02-05 06:41:29,045 - ENV SETTINGS:: MONAI_LABEL_DICOMWEB_READ_TIMEOUT = 5.0\n",
            "2023-02-05 06:41:29,045 - ENV SETTINGS:: MONAI_LABEL_DATASTORE_AUTO_RELOAD = True\n",
            "2023-02-05 06:41:29,045 - ENV SETTINGS:: MONAI_LABEL_DATASTORE_READ_ONLY = False\n",
            "2023-02-05 06:41:29,045 - ENV SETTINGS:: MONAI_LABEL_DATASTORE_FILE_EXT = '[\"*.nii.gz\", \"*.nii\", \"*.nrrd\", \"*.jpg\", \"*.png\", \"*.tif\", \"*.svs\", \"*.xml\"]'\n",
            "2023-02-05 06:41:29,046 - ENV SETTINGS:: MONAI_LABEL_SERVER_PORT = 8000\n",
            "2023-02-05 06:41:29,046 - ENV SETTINGS:: MONAI_LABEL_CORS_ORIGINS = '[]'\n",
            "2023-02-05 06:41:29,046 - ENV SETTINGS:: MONAI_LABEL_SESSIONS = True\n",
            "2023-02-05 06:41:29,046 - ENV SETTINGS:: MONAI_LABEL_SESSION_PATH = \n",
            "2023-02-05 06:41:29,046 - ENV SETTINGS:: MONAI_LABEL_SESSION_EXPIRY = 3600\n",
            "2023-02-05 06:41:29,046 - ENV SETTINGS:: MONAI_LABEL_INFER_CONCURRENCY = -1\n",
            "2023-02-05 06:41:29,046 - ENV SETTINGS:: MONAI_LABEL_INFER_TIMEOUT = 600\n",
            "2023-02-05 06:41:29,046 - ENV SETTINGS:: MONAI_LABEL_TRACKING_ENABLED = True\n",
            "2023-02-05 06:41:29,046 - ENV SETTINGS:: MONAI_LABEL_TRACKING_URI = \n",
            "2023-02-05 06:41:29,046 - ENV SETTINGS:: MONAI_ZOO_SOURCE = github\n",
            "2023-02-05 06:41:29,046 - ENV SETTINGS:: MONAI_ZOO_REPO = Project-MONAI/model-zoo/hosting_storage_v1\n",
            "2023-02-05 06:41:29,046 - ENV SETTINGS:: MONAI_ZOO_AUTH_TOKEN = \n",
            "2023-02-05 06:41:29,046 - ENV SETTINGS:: MONAI_LABEL_AUTO_UPDATE_SCORING = True\n",
            "2023-02-05 06:41:29,046 - \n",
            "Allow Origins: ['*']\n",
            "[2023-02-05 06:41:29,518] [4452] [MainThread] [INFO] (uvicorn.error:75) - Started server process [4452]\n",
            "[2023-02-05 06:41:29,518] [4452] [MainThread] [INFO] (uvicorn.error:45) - Waiting for application startup.\n",
            "[2023-02-05 06:41:29,519] [4452] [MainThread] [INFO] (monailabel.interfaces.utils.app:38) - Initializing App from: /content/sample-apps/radiology; studies: /content/Task09_Spleen/imagesTr; conf: {'models': 'deepedit'}\n",
            "[2023-02-05 06:41:30,189] [4452] [MainThread] [INFO] (monailabel.utils.others.class_utils:37) - Subclass for MONAILabelApp Found: <class 'main.MyApp'>\n",
            "[2023-02-05 06:41:30,195] [4452] [MainThread] [INFO] (monailabel.utils.others.class_utils:37) - Subclass for TaskConfig Found: <class 'lib.configs.deepgrow_2d.Deepgrow2D'>\n",
            "[2023-02-05 06:41:30,196] [4452] [MainThread] [INFO] (monailabel.utils.others.class_utils:37) - Subclass for TaskConfig Found: <class 'lib.configs.segmentation_vertebra.SegmentationVertebra'>\n",
            "[2023-02-05 06:41:30,198] [4452] [MainThread] [INFO] (monailabel.utils.others.class_utils:37) - Subclass for TaskConfig Found: <class 'lib.configs.segmentation_spleen.SegmentationSpleen'>\n",
            "[2023-02-05 06:41:30,199] [4452] [MainThread] [INFO] (monailabel.utils.others.class_utils:37) - Subclass for TaskConfig Found: <class 'lib.configs.deepgrow_3d.Deepgrow3D'>\n",
            "[2023-02-05 06:41:30,199] [4452] [MainThread] [INFO] (monailabel.utils.others.class_utils:37) - Subclass for TaskConfig Found: <class 'lib.configs.deepedit.DeepEdit'>\n",
            "[2023-02-05 06:41:30,200] [4452] [MainThread] [INFO] (monailabel.utils.others.class_utils:37) - Subclass for TaskConfig Found: <class 'lib.configs.segmentation.Segmentation'>\n",
            "[2023-02-05 06:41:30,201] [4452] [MainThread] [INFO] (monailabel.utils.others.class_utils:37) - Subclass for TaskConfig Found: <class 'lib.configs.localization_spine.LocalizationSpine'>\n",
            "[2023-02-05 06:41:30,201] [4452] [MainThread] [INFO] (monailabel.utils.others.class_utils:37) - Subclass for TaskConfig Found: <class 'lib.configs.localization_vertebra.LocalizationVertebra'>\n",
            "[2023-02-05 06:41:30,201] [4452] [MainThread] [INFO] (main:93) - +++ Adding Model: deepedit => lib.configs.deepedit.DeepEdit\n",
            "[2023-02-05 06:41:31,863] [4452] [MainThread] [INFO] (lib.configs.deepedit:141) - EPISTEMIC Enabled: False; Samples: 5\n",
            "[2023-02-05 06:41:31,863] [4452] [MainThread] [INFO] (main:96) - +++ Using Models: ['deepedit']\n",
            "[2023-02-05 06:41:31,863] [4452] [MainThread] [INFO] (monailabel.interfaces.app:135) - Init Datastore for: /content/Task09_Spleen/imagesTr\n",
            "[2023-02-05 06:41:31,864] [4452] [MainThread] [INFO] (monailabel.datastore.local:129) - Auto Reload: True; Extensions: ['*.nii.gz', '*.nii', '*.nrrd', '*.jpg', '*.png', '*.tif', '*.svs', '*.xml']\n",
            "[2023-02-05 06:41:31,872] [4452] [MainThread] [INFO] (monailabel.datastore.local:576) - Invalidate count: 0\n",
            "[2023-02-05 06:41:31,872] [4452] [MainThread] [INFO] (monailabel.datastore.local:150) - Start observing external modifications on datastore (AUTO RELOAD)\n",
            "[2023-02-05 06:41:31,888] [4452] [MainThread] [INFO] (main:126) - +++ Adding Inferer:: deepedit => <lib.infers.deepedit.DeepEdit object at 0x7f523c5b6370>\n",
            "[2023-02-05 06:41:31,888] [4452] [MainThread] [INFO] (main:126) - +++ Adding Inferer:: deepedit_seg => <lib.infers.deepedit.DeepEdit object at 0x7f52363ca6d0>\n",
            "[2023-02-05 06:41:31,888] [4452] [MainThread] [INFO] (main:191) - {'deepedit': <lib.infers.deepedit.DeepEdit object at 0x7f523c5b6370>, 'deepedit_seg': <lib.infers.deepedit.DeepEdit object at 0x7f52363ca6d0>, 'Histogram+GraphCut': <monailabel.scribbles.infer.HistogramBasedGraphCut object at 0x7f52363ca700>, 'GMM+GraphCut': <monailabel.scribbles.infer.GMMBasedGraphCut object at 0x7f52363ca760>}\n",
            "[2023-02-05 06:41:31,889] [4452] [MainThread] [INFO] (main:206) - +++ Adding Trainer:: deepedit => <lib.trainers.deepedit.DeepEdit object at 0x7f52363ca820>\n",
            "[2023-02-05 06:41:31,890] [4452] [MainThread] [INFO] (monailabel.utils.sessions:51) - Session Path: /root/.cache/monailabel/sessions\n",
            "[2023-02-05 06:41:31,890] [4452] [MainThread] [INFO] (monailabel.utils.sessions:52) - Session Expiry (max): 3600\n",
            "[2023-02-05 06:41:31,890] [4452] [MainThread] [INFO] (monailabel.interfaces.app:475) - App Init - completed\n",
            "[2023-02-05 06:41:31,891] [timeloop] [INFO] Starting Timeloop..\n",
            "[2023-02-05 06:41:31,891] [4452] [MainThread] [INFO] (timeloop:60) - Starting Timeloop..\n",
            "[2023-02-05 06:41:31,891] [timeloop] [INFO] Registered job <function MONAILabelApp.on_init_complete.<locals>.run_scheduler at 0x7f52363d30d0>\n",
            "[2023-02-05 06:41:31,891] [4452] [MainThread] [INFO] (timeloop:42) - Registered job <function MONAILabelApp.on_init_complete.<locals>.run_scheduler at 0x7f52363d30d0>\n",
            "[2023-02-05 06:41:31,891] [timeloop] [INFO] Timeloop now started. Jobs will run based on the interval set\n",
            "[2023-02-05 06:41:31,891] [4452] [MainThread] [INFO] (timeloop:63) - Timeloop now started. Jobs will run based on the interval set\n",
            "[2023-02-05 06:41:31,891] [4452] [MainThread] [INFO] (uvicorn.error:59) - Application startup complete.\n",
            "[2023-02-05 06:41:31,892] [4452] [MainThread] [INFO] (uvicorn.error:206) - Uvicorn running on http://0.0.0.0:8000 (Press CTRL+C to quit)\n"
          ]
        }
      ],
      "source": [
        "#Inicializo el servidor\n",
        "!monailabel start_server --app /content/sample-apps/radiology --studies Task09_Spleen/imagesTr --conf models deepedit "
      ]
    }
  ],
  "metadata": {
    "accelerator": "GPU",
    "colab": {
      "provenance": []
    },
    "gpuClass": "standard",
    "kernelspec": {
      "display_name": "Python 3",
      "name": "python3"
    },
    "language_info": {
      "name": "python"
    }
  },
  "nbformat": 4,
  "nbformat_minor": 0
}